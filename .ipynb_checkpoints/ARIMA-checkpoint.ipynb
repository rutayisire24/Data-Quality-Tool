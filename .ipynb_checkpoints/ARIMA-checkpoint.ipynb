{
 "cells": [
  {
   "cell_type": "code",
   "execution_count": 70,
   "id": "130adf10",
   "metadata": {},
   "outputs": [
    {
     "ename": "IndentationError",
     "evalue": "expected an indented block after 'if' statement on line 32 (1970088807.py, line 37)",
     "output_type": "error",
     "traceback": [
      "\u001b[0;36m  Cell \u001b[0;32mIn[70], line 37\u001b[0;36m\u001b[0m\n\u001b[0;31m    residual = row['malaria_cases'] - forecast\u001b[0m\n\u001b[0m    ^\u001b[0m\n\u001b[0;31mIndentationError\u001b[0m\u001b[0;31m:\u001b[0m expected an indented block after 'if' statement on line 32\n"
     ]
    }
   ],
   "source": [
    "def fit_arima_models(data, forecast_steps=1):\n",
    "    \"\"\"Fits ARIMA models for each facility, storing differencing order.\"\"\"\n",
    "    models = {}\n",
    "    for facility in data['Facility'].unique():\n",
    "        facility_data = data.loc[data['Facility'] == facility]\n",
    "        facility_data.set_index('periodname', inplace=True)\n",
    "\n",
    "        # Example with constant trend\n",
    "        model = ARIMA(facility_data['malaria_cases'], order=(0, 1, 1))\n",
    "        fit_result = model.fit()\n",
    "        models[facility] = {\n",
    "            'model': fit_result,\n",
    "            'order': model.order,  # Storing the entire order tuple\n",
    "            'trend': 'n',  # Assuming you want to manually set this as per your earlier code\n",
    "        }\n",
    " return models\n",
    "\n",
    "# Then, when using this information:\n",
    "def predict_outliers(models, new_data, cumulative=True):\n",
    "    \"\"\"Forecasts and assesses potential outliers, handling differencing.\"\"\"\n",
    "    outliers = []\n",
    "    for _, row in new_data.iterrows():\n",
    "        facility = row['Facility']  # Ensure this matches your column name\n",
    "        model_info = models.get(facility, None)\n",
    "        \n",
    "        if not model_info:\n",
    "            continue  # Skip if model not found for the facility\n",
    "        \n",
    "        d = model_info['order'][1]  # Accessing the differencing order directly from the stored order tuple\n",
    "        forecast = model_info['model'].forecast(steps=1)[0]\n",
    "\n",
    "        if cumulative:\n",
    "            # Adjust forecast based on the differencing and last observed value\n",
    "            # Placeholder for actual logic needed here\n",
    "            # Note: The specific logic for adjusting based on 'd' will depend on your data and model structure\n",
    "            \n",
    "        residual = row['malaria_cases'] - forecast\n",
    "        is_outlier = abs(residual) > 3 * model_info['model'].resid.std()\n",
    "\n",
    "        outliers.append({\n",
    "            \"Facility\": facility,\n",
    "            \"periodname\": row['periodname'],  # Ensure this matches your column name for time periods\n",
    "            \"malaria_cases\": row['malaria_cases'],\n",
    "            \"forecast\": forecast,\n",
    "            \"residual\": residual,\n",
    "            \"is_outlier\": is_outlier\n",
    "        })\n",
    " return pd.DataFrame(outliers) \n"
   ]
  },
  {
   "cell_type": "code",
   "execution_count": 68,
   "id": "f6ad4518",
   "metadata": {},
   "outputs": [
    {
     "data": {
      "text/plain": [
       "0      5th Military Division Health Centre IV\n",
       "1      5th Military Division Health Centre IV\n",
       "2      5th Military Division Health Centre IV\n",
       "3      5th Military Division Health Centre IV\n",
       "4      5th Military Division Health Centre IV\n",
       "                        ...                  \n",
       "115                 Adilang Health Centre III\n",
       "116                 Adilang Health Centre III\n",
       "117                 Adilang Health Centre III\n",
       "118                 Adilang Health Centre III\n",
       "119                 Adilang Health Centre III\n",
       "Name: Facility, Length: 120, dtype: object"
      ]
     },
     "execution_count": 68,
     "metadata": {},
     "output_type": "execute_result"
    }
   ],
   "source": [
    "data = pd.read_csv(\"test.csv\") \n",
    "data['Facility']\n"
   ]
  },
  {
   "cell_type": "code",
   "execution_count": 69,
   "id": "23d7ab7f",
   "metadata": {},
   "outputs": [
    {
     "name": "stderr",
     "output_type": "stream",
     "text": [
      "/Library/Frameworks/Python.framework/Versions/3.10/lib/python3.10/site-packages/statsmodels/tsa/base/tsa_model.py:559: UserWarning: Could not infer format, so each element will be parsed individually, falling back to `dateutil`. To ensure parsing is consistent and as-expected, please specify a format.\n",
      "  _index = to_datetime(index)\n",
      "/Library/Frameworks/Python.framework/Versions/3.10/lib/python3.10/site-packages/statsmodels/tsa/base/tsa_model.py:473: ValueWarning: An unsupported index was provided and will be ignored when e.g. forecasting.\n",
      "  self._init_dates(dates, freq)\n",
      "/Library/Frameworks/Python.framework/Versions/3.10/lib/python3.10/site-packages/statsmodels/tsa/base/tsa_model.py:559: UserWarning: Could not infer format, so each element will be parsed individually, falling back to `dateutil`. To ensure parsing is consistent and as-expected, please specify a format.\n",
      "  _index = to_datetime(index)\n",
      "/Library/Frameworks/Python.framework/Versions/3.10/lib/python3.10/site-packages/statsmodels/tsa/base/tsa_model.py:473: ValueWarning: An unsupported index was provided and will be ignored when e.g. forecasting.\n",
      "  self._init_dates(dates, freq)\n",
      "/Library/Frameworks/Python.framework/Versions/3.10/lib/python3.10/site-packages/statsmodels/tsa/base/tsa_model.py:559: UserWarning: Could not infer format, so each element will be parsed individually, falling back to `dateutil`. To ensure parsing is consistent and as-expected, please specify a format.\n",
      "  _index = to_datetime(index)\n",
      "/Library/Frameworks/Python.framework/Versions/3.10/lib/python3.10/site-packages/statsmodels/tsa/base/tsa_model.py:473: ValueWarning: An unsupported index was provided and will be ignored when e.g. forecasting.\n",
      "  self._init_dates(dates, freq)\n"
     ]
    },
    {
     "ename": "AttributeError",
     "evalue": "'ARIMAResults' object has no attribute 'k_diff'",
     "output_type": "error",
     "traceback": [
      "\u001b[0;31m---------------------------------------------------------------------------\u001b[0m",
      "\u001b[0;31mAttributeError\u001b[0m                            Traceback (most recent call last)",
      "Cell \u001b[0;32mIn[69], line 1\u001b[0m\n\u001b[0;32m----> 1\u001b[0m fitted_models \u001b[38;5;241m=\u001b[39m \u001b[43mfit_arima_models\u001b[49m\u001b[43m(\u001b[49m\u001b[43mdata\u001b[49m\u001b[38;5;241;43m.\u001b[39;49m\u001b[43mcopy\u001b[49m\u001b[43m(\u001b[49m\u001b[43m)\u001b[49m\u001b[43m)\u001b[49m  \u001b[38;5;66;03m# Fit models for each facility (copy to avoid modifying original data)\u001b[39;00m\n",
      "Cell \u001b[0;32mIn[67], line 19\u001b[0m, in \u001b[0;36mfit_arima_models\u001b[0;34m(data, forecast_steps)\u001b[0m\n\u001b[1;32m     15\u001b[0m     model \u001b[38;5;241m=\u001b[39m ARIMA(facility_data[\u001b[38;5;124m'\u001b[39m\u001b[38;5;124mmalaria_cases\u001b[39m\u001b[38;5;124m'\u001b[39m], order\u001b[38;5;241m=\u001b[39m(\u001b[38;5;241m0\u001b[39m, \u001b[38;5;241m1\u001b[39m, \u001b[38;5;241m1\u001b[39m))  \u001b[38;5;66;03m# Example with constant trend\u001b[39;00m\n\u001b[1;32m     16\u001b[0m     fit_result \u001b[38;5;241m=\u001b[39m model\u001b[38;5;241m.\u001b[39mfit()\n\u001b[1;32m     17\u001b[0m     models[facility] \u001b[38;5;241m=\u001b[39m {\n\u001b[1;32m     18\u001b[0m         \u001b[38;5;124m'\u001b[39m\u001b[38;5;124mmodel\u001b[39m\u001b[38;5;124m'\u001b[39m: fit_result,\n\u001b[0;32m---> 19\u001b[0m         \u001b[38;5;124m'\u001b[39m\u001b[38;5;124mdiff_order\u001b[39m\u001b[38;5;124m'\u001b[39m: \u001b[43mfit_result\u001b[49m\u001b[38;5;241;43m.\u001b[39;49m\u001b[43mk_diff\u001b[49m,\n\u001b[1;32m     20\u001b[0m         \u001b[38;5;124m'\u001b[39m\u001b[38;5;124mtrend\u001b[39m\u001b[38;5;124m'\u001b[39m: fit_result\u001b[38;5;241m.\u001b[39mtrend,  \u001b[38;5;66;03m# Store the trend parameter\u001b[39;00m\n\u001b[1;32m     21\u001b[0m         \u001b[38;5;124m'\u001b[39m\u001b[38;5;124mlast_observed_value\u001b[39m\u001b[38;5;124m'\u001b[39m: facility_data[\u001b[38;5;124m'\u001b[39m\u001b[38;5;124mmalaria_cases\u001b[39m\u001b[38;5;124m'\u001b[39m]\u001b[38;5;241m.\u001b[39miloc[\u001b[38;5;241m-\u001b[39m\u001b[38;5;241m1\u001b[39m]  \u001b[38;5;66;03m# Store the last observed value for cumulative forecasts\u001b[39;00m\n\u001b[1;32m     22\u001b[0m     }\n\u001b[1;32m     23\u001b[0m \u001b[38;5;28;01mreturn\u001b[39;00m models\n",
      "File \u001b[0;32m/Library/Frameworks/Python.framework/Versions/3.10/lib/python3.10/site-packages/statsmodels/base/wrapper.py:34\u001b[0m, in \u001b[0;36mResultsWrapper.__getattribute__\u001b[0;34m(self, attr)\u001b[0m\n\u001b[1;32m     31\u001b[0m \u001b[38;5;28;01mexcept\u001b[39;00m \u001b[38;5;167;01mAttributeError\u001b[39;00m:\n\u001b[1;32m     32\u001b[0m     \u001b[38;5;28;01mpass\u001b[39;00m\n\u001b[0;32m---> 34\u001b[0m obj \u001b[38;5;241m=\u001b[39m \u001b[38;5;28;43mgetattr\u001b[39;49m\u001b[43m(\u001b[49m\u001b[43mresults\u001b[49m\u001b[43m,\u001b[49m\u001b[43m \u001b[49m\u001b[43mattr\u001b[49m\u001b[43m)\u001b[49m\n\u001b[1;32m     35\u001b[0m data \u001b[38;5;241m=\u001b[39m results\u001b[38;5;241m.\u001b[39mmodel\u001b[38;5;241m.\u001b[39mdata\n\u001b[1;32m     36\u001b[0m how \u001b[38;5;241m=\u001b[39m \u001b[38;5;28mself\u001b[39m\u001b[38;5;241m.\u001b[39m_wrap_attrs\u001b[38;5;241m.\u001b[39mget(attr)\n",
      "\u001b[0;31mAttributeError\u001b[0m: 'ARIMAResults' object has no attribute 'k_diff'"
     ]
    }
   ],
   "source": [
    "fitted_models = fit_arima_models(data.copy())  # Fit models for each facility (copy to avoid modifying original data)\n"
   ]
  },
  {
   "cell_type": "code",
   "execution_count": 41,
   "id": "4bea00c3",
   "metadata": {},
   "outputs": [
    {
     "data": {
      "text/html": [
       "<div>\n",
       "<style scoped>\n",
       "    .dataframe tbody tr th:only-of-type {\n",
       "        vertical-align: middle;\n",
       "    }\n",
       "\n",
       "    .dataframe tbody tr th {\n",
       "        vertical-align: top;\n",
       "    }\n",
       "\n",
       "    .dataframe thead th {\n",
       "        text-align: right;\n",
       "    }\n",
       "</style>\n",
       "<table border=\"1\" class=\"dataframe\">\n",
       "  <thead>\n",
       "    <tr style=\"text-align: right;\">\n",
       "      <th></th>\n",
       "      <th>periodname</th>\n",
       "      <th>Facility</th>\n",
       "      <th>malaria_cases</th>\n",
       "      <th>malaria_tests</th>\n",
       "    </tr>\n",
       "  </thead>\n",
       "  <tbody>\n",
       "    <tr>\n",
       "      <th>0</th>\n",
       "      <td>Dec-23</td>\n",
       "      <td>5th Military Division Health Centre IV</td>\n",
       "      <td>462.0</td>\n",
       "      <td>462.0</td>\n",
       "    </tr>\n",
       "    <tr>\n",
       "      <th>1</th>\n",
       "      <td>Dec-23</td>\n",
       "      <td>AAR Gulu Clinic</td>\n",
       "      <td>129.0</td>\n",
       "      <td>129.0</td>\n",
       "    </tr>\n",
       "    <tr>\n",
       "      <th>2</th>\n",
       "      <td>Dec-23</td>\n",
       "      <td>Abilonino Health Centre II</td>\n",
       "      <td>457.0</td>\n",
       "      <td>457.0</td>\n",
       "    </tr>\n",
       "    <tr>\n",
       "      <th>3</th>\n",
       "      <td>Dec-23</td>\n",
       "      <td>Abwoch Health Centre III</td>\n",
       "      <td>616.0</td>\n",
       "      <td>616.0</td>\n",
       "    </tr>\n",
       "    <tr>\n",
       "      <th>4</th>\n",
       "      <td>Dec-23</td>\n",
       "      <td>Acet Community Oriented Clinic</td>\n",
       "      <td>NaN</td>\n",
       "      <td>NaN</td>\n",
       "    </tr>\n",
       "  </tbody>\n",
       "</table>\n",
       "</div>"
      ],
      "text/plain": [
       "  periodname                                Facility  malaria_cases   \n",
       "0     Dec-23  5th Military Division Health Centre IV          462.0  \\\n",
       "1     Dec-23                         AAR Gulu Clinic          129.0   \n",
       "2     Dec-23              Abilonino Health Centre II          457.0   \n",
       "3     Dec-23                Abwoch Health Centre III          616.0   \n",
       "4     Dec-23          Acet Community Oriented Clinic            NaN   \n",
       "\n",
       "   malaria_tests  \n",
       "0          462.0  \n",
       "1          129.0  \n",
       "2          457.0  \n",
       "3          616.0  \n",
       "4            NaN  "
      ]
     },
     "execution_count": 41,
     "metadata": {},
     "output_type": "execute_result"
    }
   ],
   "source": [
    "new = pd.read_csv(\"test_new.csv\") \n",
    "new.head() "
   ]
  },
  {
   "cell_type": "code",
   "execution_count": 48,
   "id": "33e1693e",
   "metadata": {},
   "outputs": [
    {
     "ename": "UnboundLocalError",
     "evalue": "local variable 'model' referenced before assignment",
     "output_type": "error",
     "traceback": [
      "\u001b[0;31m---------------------------------------------------------------------------\u001b[0m",
      "\u001b[0;31mUnboundLocalError\u001b[0m                         Traceback (most recent call last)",
      "Cell \u001b[0;32mIn[48], line 1\u001b[0m\n\u001b[0;32m----> 1\u001b[0m outlier_df \u001b[38;5;241m=\u001b[39m \u001b[43mpredict_outliers\u001b[49m\u001b[43m(\u001b[49m\u001b[43mfitted_models\u001b[49m\u001b[43m,\u001b[49m\u001b[43m \u001b[49m\u001b[43mnew\u001b[49m\u001b[43m)\u001b[49m \n",
      "Cell \u001b[0;32mIn[47], line 43\u001b[0m, in \u001b[0;36mpredict_outliers\u001b[0;34m(models, new_data)\u001b[0m\n\u001b[1;32m     41\u001b[0m \u001b[38;5;28;01mfor\u001b[39;00m _, row \u001b[38;5;129;01min\u001b[39;00m new_data\u001b[38;5;241m.\u001b[39miterrows():  \u001b[38;5;66;03m# Iterate through each row of new data\u001b[39;00m\n\u001b[1;32m     42\u001b[0m   facility \u001b[38;5;241m=\u001b[39m row[\u001b[38;5;124m'\u001b[39m\u001b[38;5;124mFacility\u001b[39m\u001b[38;5;124m'\u001b[39m]\n\u001b[0;32m---> 43\u001b[0m   models[facility] \u001b[38;5;241m=\u001b[39m \u001b[43mmodel\u001b[49m\u001b[38;5;241m.\u001b[39mfit()\n\u001b[1;32m     44\u001b[0m   models[facility][\u001b[38;5;124m'\u001b[39m\u001b[38;5;124mdiff_order\u001b[39m\u001b[38;5;124m'\u001b[39m] \u001b[38;5;241m=\u001b[39m model\u001b[38;5;241m.\u001b[39marima_res_\u001b[38;5;241m.\u001b[39mk_diff\n\u001b[1;32m     45\u001b[0m   model \u001b[38;5;241m=\u001b[39m models[facility]\n",
      "\u001b[0;31mUnboundLocalError\u001b[0m: local variable 'model' referenced before assignment"
     ]
    }
   ],
   "source": [
    "outlier_df = predict_outliers(fitted_models, new) "
   ]
  }
 ],
 "metadata": {
  "kernelspec": {
   "display_name": "Python 3 (ipykernel)",
   "language": "python",
   "name": "python3"
  },
  "language_info": {
   "codemirror_mode": {
    "name": "ipython",
    "version": 3
   },
   "file_extension": ".py",
   "mimetype": "text/x-python",
   "name": "python",
   "nbconvert_exporter": "python",
   "pygments_lexer": "ipython3",
   "version": "3.10.11"
  }
 },
 "nbformat": 4,
 "nbformat_minor": 5
}
