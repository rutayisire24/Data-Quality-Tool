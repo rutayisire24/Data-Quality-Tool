{
 "cells": [
  {
   "cell_type": "code",
   "execution_count": 73,
   "id": "d81305c3",
   "metadata": {},
   "outputs": [],
   "source": [
    "import pandas as pd\n",
    "from statsmodels.tsa.arima.model import ARIMA\n",
    "from statsmodels.tsa.stattools import adfuller\n",
    "import numpy as np "
   ]
  },
  {
   "cell_type": "code",
   "execution_count": 78,
   "id": "8f77009f",
   "metadata": {},
   "outputs": [],
   "source": [
    "df1 = pd.read_csv(\"test.csv\")\n",
    "df2 = pd.read_csv(\"test_new.csv\")\n"
   ]
  },
  {
   "cell_type": "code",
   "execution_count": null,
   "id": "531cdada",
   "metadata": {},
   "outputs": [],
   "source": []
  }
 ],
 "metadata": {
  "kernelspec": {
   "display_name": "Python 3 (ipykernel)",
   "language": "python",
   "name": "python3"
  },
  "language_info": {
   "codemirror_mode": {
    "name": "ipython",
    "version": 3
   },
   "file_extension": ".py",
   "mimetype": "text/x-python",
   "name": "python",
   "nbconvert_exporter": "python",
   "pygments_lexer": "ipython3",
   "version": "3.10.11"
  }
 },
 "nbformat": 4,
 "nbformat_minor": 5
}
