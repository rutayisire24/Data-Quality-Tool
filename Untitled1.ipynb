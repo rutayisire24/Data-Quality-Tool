{
 "cells": [
  {
   "cell_type": "code",
   "execution_count": null,
   "id": "5fb1c1f1",
   "metadata": {},
   "outputs": [],
   "source": [
    "def detect_outliers(data, column_name):\n",
    "\n",
    "\n",
    "    data = data[[column_name, 'organisationunitname']].copy()\n",
    "\n",
    "    # Placeholder for the results\n",
    "    outlier_results = []\n",
    "\n",
    "    for unit in data['organisationunitname'].unique():\n",
    "        print('processing unit:', unit)\n",
    "\n",
    "        sample_fac_data = data[data['organisationunitname'] == unit]\n",
    "        period_names = sample_fac_data.index\n",
    "\n",
    "        try:\n",
    "            # Data validation and imputation\n",
    "            data_test = sample_fac_data.drop('organisationunitname', axis=1)\n",
    "            data_test = validate_series(data_test)\n",
    "            quantile_ad = QuantileAD(high=0.999999999, low=0.0000001)\n",
    "            anomaly_scores = quantile_ad.fit_detect(data_test) \n",
    "            # Create results DataFrame\n",
    "            anomalies = pd.DataFrame(index=period_names)\n",
    "            anomalies['organisationunitname'] = unit\n",
    "            anomalies[column_name] = data_test[column_name]  \n",
    "            #anomalies['outlier'] = outlier_flags\n",
    "            anomalies['outlier'] = anomaly_scores != 0\n",
    "\n",
    "            outlier_results.append(anomalies)\n",
    "\n",
    "        except Exception as e:\n",
    "            print(f\"Error during processing for unit {unit}: {e}. Skipping this unit.\")\n",
    "            continue\n",
    "\n",
    "    # Concatenate results\n",
    "    all_outliers = pd.concat(outlier_results, ignore_index=False)\n",
    "\n",
    "        # New code to aggregate outlier counts per facility\n",
    "    outlier_counts = all_outliers.groupby('organisationunitname')['outlier'].sum().reset_index()\n",
    "    outlier_counts.columns = ['Facility', 'Outlier Count']\n",
    "    outlier_counts.sort_values('Outlier Count', ascending=False, inplace=True)\n",
    "    \n",
    "    return all_outliers , outlier_counts\n",
    "\n",
    "def validate_series(data_test):\n",
    "    \"\"\"Validates the data and handles missing values.\n",
    "    \"\"\"\n",
    "    # Other validation checks (ensure data type, etc.)\n",
    "    data_test = data_test.fillna(data_test.mean())  # Impute missing values with the mean\n",
    "    return data_test"
   ]
  }
 ],
 "metadata": {
  "kernelspec": {
   "display_name": "Python 3 (ipykernel)",
   "language": "python",
   "name": "python3"
  },
  "language_info": {
   "codemirror_mode": {
    "name": "ipython",
    "version": 3
   },
   "file_extension": ".py",
   "mimetype": "text/x-python",
   "name": "python",
   "nbconvert_exporter": "python",
   "pygments_lexer": "ipython3",
   "version": "3.10.11"
  }
 },
 "nbformat": 4,
 "nbformat_minor": 5
}
